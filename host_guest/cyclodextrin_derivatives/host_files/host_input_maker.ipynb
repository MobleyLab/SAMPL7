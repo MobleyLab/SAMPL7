{
 "cells": [
  {
   "cell_type": "code",
   "execution_count": 1,
   "metadata": {},
   "outputs": [],
   "source": [
    "from openeye.oechem import *\n",
    "from openeye.oeomega import * \n",
    "import glob\n",
    "\n",
    "PDB_files = glob.glob(\"*pdb\")\n",
    "\n",
    "for idx in range( len( PDB_files ) ):\n",
    "    # Load molecule from provided PDB \n",
    "    ofile = oemolistream( PDB_files[idx] )\n",
    "    mol = OEMol()\n",
    "    OEReadMolecule( ofile, mol )\n",
    "    ofile.close()\n",
    "\n",
    "    # Write out MOL2 of molecule\n",
    "    ofile = oemolostream('%s.mol2'%( PDB_files[idx][:-4] ))\n",
    "    OEWriteMolecule(ofile, mol)\n",
    "    ofile.close()\n",
    "\n",
    "    # Write out SDF of molecule\n",
    "    ofile = oemolostream('%s.sdf'%( PDB_files[idx][:-4] ))\n",
    "    OEWriteMolecule(ofile, mol)\n",
    "    ofile.close()"
   ]
  },
  {
   "cell_type": "code",
   "execution_count": null,
   "metadata": {},
   "outputs": [],
   "source": []
  }
 ],
 "metadata": {
  "kernelspec": {
   "display_name": "Python [conda env:drugcomp]",
   "language": "python",
   "name": "conda-env-drugcomp-py"
  },
  "language_info": {
   "codemirror_mode": {
    "name": "ipython",
    "version": 3
   },
   "file_extension": ".py",
   "mimetype": "text/x-python",
   "name": "python",
   "nbconvert_exporter": "python",
   "pygments_lexer": "ipython3",
   "version": "3.6.7"
  }
 },
 "nbformat": 4,
 "nbformat_minor": 2
}
